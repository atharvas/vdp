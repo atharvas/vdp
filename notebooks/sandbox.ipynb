{
 "cells": [
  {
   "cell_type": "markdown",
   "metadata": {},
   "source": [
    "## Imports"
   ]
  },
  {
   "cell_type": "code",
   "execution_count": 1,
   "metadata": {},
   "outputs": [],
   "source": [
    "import os\n",
    "import shutil\n",
    "import json\n",
    "os.chdir(\"/Users/atharvas/Documents/FALL_2020/vdp\") # point this to the project directory \n"
   ]
  },
  {
   "cell_type": "markdown",
   "metadata": {},
   "source": [
    "## Make sets"
   ]
  },
  {
   "cell_type": "code",
   "execution_count": 2,
   "metadata": {},
   "outputs": [],
   "source": [
    "vdp_params = object()\n",
    "with open(\"./config.json\") as f:\n",
    "    vdp_params = json.load(f)\n",
    "    "
   ]
  },
  {
   "cell_type": "code",
   "execution_count": 3,
   "metadata": {},
   "outputs": [],
   "source": [
    "def make_set(params):\n",
    "    \"\"\"\n",
    "    Inputs: \n",
    "    vdp_params: dict\n",
    "        A json file containing formatted dict\n",
    "    \n",
    "    Notes:\n",
    "        dict must be formatted as such:\n",
    "        params = {\n",
    "            \"name\"  : \"str\", \n",
    "            \"train\" : [\"1.jpg\", \"2.jpg\", \"3.jpg\"],\n",
    "            \"test\"  : [\"4.jpg\", \"5.jpg\", \"6.jpg\"]\n",
    "        }\n",
    "    \"\"\"\n",
    "    #@TODO Input verification\n",
    "    normalized_name = params[\"name\"].replace(\" \", \"_\").lower()\n",
    "    del params['name']\n",
    "    folder_path = os.path.join(\"./data/interim/\", normalized_name)\n",
    "    #@TODO Logging\n",
    "    for img_path in params['test']:\n",
    "        new_img_path = (os.path.join(folder_path, \"test\", os.path.basename(img_path)))\n",
    "        os.makedirs(new_img_path, exist_ok=True)\n",
    "        shutil.copy(img_path, new_img_path)\n",
    "    del params['test']\n",
    "\n",
    "    for img_path in params['train']:\n",
    "        new_img_path = (os.path.join(folder_path, \"train\", os.path.basename(img_path)))\n",
    "        os.makedirs(new_img_path, exist_ok=True)\n",
    "        shutil.copy(img_path, new_img_path)\n",
    "    del params['train']\n",
    "    \n",
    "    if len(params):\n",
    "        config_path = (os.path.join(folder_path, \"config.json\"))\n",
    "        with open(config_path, 'w') as fp:\n",
    "            json.dump(params, fp)        \n",
    "    \n",
    "    \n"
   ]
  },
  {
   "cell_type": "code",
   "execution_count": 5,
   "metadata": {
    "tags": []
   },
   "outputs": [
    {
     "output_type": "stream",
     "name": "stdout",
     "text": "CUDA_VISIBLE_DEVICES=0 python -m torch.distributed.launch --master_port 10027 --nproc_per_node=1 tools/relation_test_net.py --config-file &quot;configs/e2e_relation_X_101_32_8_FPN_1x.yaml&quot; MODEL.ROI_RELATION_HEAD.USE_GT_BOX False MODEL.ROI_RELATION_HEAD.USE_GT_OBJECT_LABEL False MODEL.ROI_RELATION_HEAD.PREDICTOR CausalAnalysisPredictor MODEL.ROI_RELATION_HEAD.CAUSAL.EFFECT_TYPE TDE  MODEL.ROI_RELATION_HEAD.CAUSAL.FUSION_TYPE sum  MODEL.ROI_RELATION_HEAD.CAUSAL.CONTEXT_LAYER motifs  TEST.IMS_PER_BATCH 1  DTYPE &quot;float16&quot;  GLOVE_DIR c MODEL.PRETRAINED_DETECTOR_CKPT d OUTPUT_DIR d  TEST.CUSTUM_EVAL True TEST.CUSTUM_PATH a DETECTED_SGG_DIR b &gt; e \n"
    }
   ],
   "source": [
    "def controller(input_path, output_path, glove_path, model_path, log_path, sg_tools_rel_path=\"tools/relation_test_net.py\", cuda_device_port=0, n_proc=1):\n",
    "    cmd = f\"\"\"CUDA_VISIBLE_DEVICES={cuda_device_port}\n",
    "    python -m torch.distributed.launch --master_port 10027\n",
    "    --nproc_per_node={n_proc}\n",
    "    {sg_tools_rel_path}\n",
    "    --config-file \"configs/e2e_relation_X_101_32_8_FPN_1x.yaml\"\n",
    "    MODEL.ROI_RELATION_HEAD.USE_GT_BOX False\n",
    "    MODEL.ROI_RELATION_HEAD.USE_GT_OBJECT_LABEL False\n",
    "    MODEL.ROI_RELATION_HEAD.PREDICTOR CausalAnalysisPredictor\n",
    "    MODEL.ROI_RELATION_HEAD.CAUSAL.EFFECT_TYPE TDE \n",
    "    MODEL.ROI_RELATION_HEAD.CAUSAL.FUSION_TYPE sum \n",
    "    MODEL.ROI_RELATION_HEAD.CAUSAL.CONTEXT_LAYER motifs \n",
    "    TEST.IMS_PER_BATCH 1 \n",
    "    DTYPE \"float16\" \n",
    "    GLOVE_DIR {glove_path}\n",
    "    MODEL.PRETRAINED_DETECTOR_CKPT {model_path}\n",
    "    OUTPUT_DIR {model_path} \n",
    "    TEST.CUSTUM_EVAL True\n",
    "    TEST.CUSTUM_PATH {input_path}\n",
    "    DETECTED_SGG_DIR {output_path}\n",
    "    > {log_path}\n",
    "    \"\"\".replace(\"\\n\", \" \").replace(\"    \", \"\")\n",
    "    print(cmd)\n",
    "    os.system(cmd)\n",
    "    \n",
    "controller(\"a\", \"b\", \"c\", \"d\", \"e\")"
   ]
  },
  {
   "cell_type": "code",
   "execution_count": null,
   "metadata": {},
   "outputs": [],
   "source": []
  }
 ],
 "metadata": {
  "kernelspec": {
   "display_name": "Python 3",
   "language": "python",
   "name": "python3"
  },
  "language_info": {
   "codemirror_mode": {
    "name": "ipython",
    "version": 3
   },
   "file_extension": ".py",
   "mimetype": "text/x-python",
   "name": "python",
   "nbconvert_exporter": "python",
   "pygments_lexer": "ipython3",
   "version": "3.7.9-final"
  }
 },
 "nbformat": 4,
 "nbformat_minor": 4
}