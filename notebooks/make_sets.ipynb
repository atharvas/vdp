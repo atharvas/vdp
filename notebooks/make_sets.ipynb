{
 "cells": [
  {
   "cell_type": "markdown",
   "metadata": {},
   "source": [
    "## Imports"
   ]
  },
  {
   "cell_type": "code",
   "execution_count": 23,
   "metadata": {},
   "outputs": [],
   "source": [
    "import os\n",
    "import json\n",
    "os.chdir(\"/Users/atharvas/Documents/FALL_2020/vdp\") # point this to the project directory \n"
   ]
  },
  {
   "cell_type": "markdown",
   "metadata": {},
   "source": [
    "## Make sets"
   ]
  },
  {
   "cell_type": "code",
   "execution_count": 30,
   "metadata": {},
   "outputs": [],
   "source": [
    "vdp_params = {\n",
    "    \"name\"  : \"Cats on sofa\",\n",
    "    \"train\" : [\"1.jpg\", \"2.jpg\", \"3.jpg\"],\n",
    "    \"test\"  : [\"4.jpg\", \"5.jpg\", \"6.jpg\"]\n",
    "}\n"
   ]
  },
  {
   "cell_type": "code",
   "execution_count": 31,
   "metadata": {},
   "outputs": [],
   "source": [
    "def make_set(vdp_params):\n",
    "    \"\"\"\n",
    "    Inputs: \n",
    "    vdp_params: dict\n",
    "        A json file containing formatted dict\n",
    "    \n",
    "    Notes:\n",
    "        dict must be formatted as such:\n",
    "        params = {\n",
    "            \"name\"  : \"str\", \n",
    "            \"train\" : [\"1.jpg\", \"2.jpg\", \"3.jpg\"],\n",
    "            \"test\"  : [\"4.jpg\", \"5.jpg\", \"6.jpg\"]\n",
    "        }\n",
    "    \"\"\""
   ]
  },
  {
   "cell_type": "code",
   "execution_count": null,
   "metadata": {},
   "outputs": [],
   "source": []
  }
 ],
 "metadata": {
  "kernelspec": {
   "display_name": "Python 3",
   "language": "python",
   "name": "python3"
  },
  "language_info": {
   "codemirror_mode": {
    "name": "ipython",
    "version": 3
   },
   "file_extension": ".py",
   "mimetype": "text/x-python",
   "name": "python",
   "nbconvert_exporter": "python",
   "pygments_lexer": "ipython3",
   "version": "3.7.6"
  }
 },
 "nbformat": 4,
 "nbformat_minor": 4
}
